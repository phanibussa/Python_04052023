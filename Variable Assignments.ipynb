{
 "cells": [
  {
   "cell_type": "code",
   "execution_count": 1,
   "id": "eb378d20",
   "metadata": {},
   "outputs": [
    {
     "ename": "SyntaxError",
     "evalue": "invalid decimal literal (2190183885.py, line 2)",
     "output_type": "error",
     "traceback": [
      "\u001b[1;36m  Cell \u001b[1;32mIn[1], line 2\u001b[1;36m\u001b[0m\n\u001b[1;33m    1.Variable Case senstivity\u001b[0m\n\u001b[1;37m     ^\u001b[0m\n\u001b[1;31mSyntaxError\u001b[0m\u001b[1;31m:\u001b[0m invalid decimal literal\n"
     ]
    }
   ],
   "source": [
    "# Agenda\n",
    "1.Variable Case senstivity\n",
    "2. Reserved word in Python\n",
    "3. Multi Assignment of variables\n",
    "4. User Input\n",
    "5. Casting\n",
    "6. Memory block\n",
    "7.OPerators {logical or Equality or Comparision or Arthimatic operators or Bitwise}\n",
    "8. operators for sets and dictionaries\n",
    "9. String Methods"
   ]
  },
  {
   "cell_type": "markdown",
   "id": "61f7bbbe",
   "metadata": {},
   "source": [
    "TEN = 10\n",
    "ten = 20\n",
    "print(f\"TEN {TEN} - ten {ten}\")"
   ]
  },
  {
   "cell_type": "markdown",
   "id": "be230076",
   "metadata": {},
   "source": [
    "# Multi Assignment of variables\n",
    "Basics\n"
   ]
  },
  {
   "cell_type": "code",
   "execution_count": null,
   "id": "b6988bc3",
   "metadata": {},
   "outputs": [],
   "source": [
    "a, b, c = 10, 20, \"Phani\"\n",
    "print(f\" Type of A - {type(a)} \\n Type of B - {type(b)} \\n Type of C - {type(c)}\")"
   ]
  },
  {
   "cell_type": "code",
   "execution_count": null,
   "id": "c9fd9dc2",
   "metadata": {},
   "outputs": [],
   "source": [
    "a, A, b, B = 10, 20.22, \"Phani\", True\n",
    "print(a, A, b, B)"
   ]
  },
  {
   "cell_type": "markdown",
   "id": "183deaf4",
   "metadata": {},
   "source": [
    "# User Input\n",
    ".Enter a number "
   ]
  },
  {
   "cell_type": "code",
   "execution_count": 3,
   "id": "cc476d2f",
   "metadata": {},
   "outputs": [
    {
     "name": "stdout",
     "output_type": "stream",
     "text": [
      "Enter your name : Phani\n",
      "You have enetered : Phani\n"
     ]
    }
   ],
   "source": [
    "name = input(\"Enter your name : \")\n",
    "print(f\"You have enetered : {name}\")\n"
   ]
  },
  {
   "cell_type": "code",
   "execution_count": 10,
   "id": "7a1ddd15",
   "metadata": {},
   "outputs": [
    {
     "name": "stdout",
     "output_type": "stream",
     "text": [
      "Enter Value of A :10\n",
      "Enter Value of B :22.3\n",
      "Sum of A + B : 32.3 \n"
     ]
    }
   ],
   "source": [
    "A = input(\"Enter Value of A :\")\n",
    "B = input(\"Enter Value of B :\")\n",
    "print(f\"Sum of A + B : {float(A)+float(B)} \")\n"
   ]
  },
  {
   "cell_type": "markdown",
   "id": "4f0563dd",
   "metadata": {},
   "source": [
    "# Casting\n"
   ]
  },
  {
   "cell_type": "code",
   "execution_count": 14,
   "id": "eb12b661",
   "metadata": {},
   "outputs": [
    {
     "name": "stdout",
     "output_type": "stream",
     "text": [
      "data type Before : <class 'str'>\n",
      "data type After: <class 'int'>\n"
     ]
    }
   ],
   "source": [
    "A = \"50\"\n",
    "print(f\"data type Before : {type(A)}\")\n",
    "A = int(A)\n",
    "print(f\"data type After: {type(A)}\")"
   ]
  },
  {
   "cell_type": "code",
   "execution_count": 19,
   "id": "308032d6",
   "metadata": {},
   "outputs": [
    {
     "name": "stdout",
     "output_type": "stream",
     "text": [
      "data type Before : <class 'float'>\n",
      "data type After: <class 'int'>\n",
      "data type After: 50\n"
     ]
    }
   ],
   "source": [
    "#float to integer\n",
    "A = 50.25\n",
    "print(f\"data type Before : {type(A)}\")\n",
    "A = int(A)\n",
    "print(f\"data type After: {type(A)}\")\n",
    "print(f\"data type After: {A}\")"
   ]
  },
  {
   "cell_type": "code",
   "execution_count": 22,
   "id": "90520b95",
   "metadata": {},
   "outputs": [
    {
     "name": "stdout",
     "output_type": "stream",
     "text": [
      "data type Before : <class 'int'> \n",
      " value of A 50\n",
      "data type After: <class 'float'> \n",
      " value of A 50.0\n"
     ]
    }
   ],
   "source": [
    "# integer to float \n",
    "A = 50\n",
    "print(f\"data type Before : {type(A)} \\n value of A {A}\")\n",
    "A = float(A)\n",
    "print(f\"data type After: {type(A)} \\n value of A {A}\")\n"
   ]
  },
  {
   "cell_type": "code",
   "execution_count": 23,
   "id": "8ec48da6",
   "metadata": {},
   "outputs": [
    {
     "name": "stdout",
     "output_type": "stream",
     "text": [
      "data type Before : <class 'int'> \n",
      " value of A 10\n",
      "data type After: <class 'bool'> \n",
      " value of A True\n"
     ]
    }
   ],
   "source": [
    "# integer to Boolean \n",
    "A = 10\n",
    "print(f\"data type Before : {type(A)} \\n value of A {A}\")\n",
    "A = bool(A)\n",
    "print(f\"data type After: {type(A)} \\n value of A {A}\")\n"
   ]
  },
  {
   "cell_type": "code",
   "execution_count": 24,
   "id": "8907dd26",
   "metadata": {},
   "outputs": [
    {
     "name": "stdout",
     "output_type": "stream",
     "text": [
      "data type Before : <class 'int'> \n",
      " value of A 0\n",
      "data type After: <class 'bool'> \n",
      " value of A False\n"
     ]
    }
   ],
   "source": [
    "# integer to Boolean \n",
    "A = 0\n",
    "print(f\"data type Before : {type(A)} \\n value of A {A}\")\n",
    "A = bool(A)\n",
    "print(f\"data type After: {type(A)} \\n value of A {A}\")"
   ]
  },
  {
   "cell_type": "code",
   "execution_count": 26,
   "id": "52257014",
   "metadata": {},
   "outputs": [
    {
     "name": "stdout",
     "output_type": "stream",
     "text": [
      "data type Before : <class 'int'> \n",
      " value of A - 1\n",
      "data type After: <class 'bool'> \n",
      " value of A - True\n"
     ]
    }
   ],
   "source": [
    "# integer to Boolean \n",
    "A = 1\n",
    "print(f\"data type Before : {type(A)} \\n value of A - {A}\")\n",
    "A = bool(A)\n",
    "print(f\"data type After: {type(A)} \\n value of A - {A}\")"
   ]
  },
  {
   "cell_type": "code",
   "execution_count": 27,
   "id": "cc152d32",
   "metadata": {},
   "outputs": [
    {
     "name": "stdout",
     "output_type": "stream",
     "text": [
      "data type Before : <class 'int'> \n",
      " value of A - -5\n",
      "data type After: <class 'bool'> \n",
      " value of A - True\n"
     ]
    }
   ],
   "source": [
    "# integer to Boolean \n",
    "A = -5\n",
    "print(f\"data type Before : {type(A)} \\n value of A - {A}\")\n",
    "A = bool(A)\n",
    "print(f\"data type After: {type(A)} \\n value of A - {A}\")"
   ]
  },
  {
   "cell_type": "markdown",
   "id": "f04eb9d7",
   "metadata": {},
   "source": [
    "# only '0' will return as false , rest all will return as True\n"
   ]
  },
  {
   "cell_type": "code",
   "execution_count": 29,
   "id": "dcbf5823",
   "metadata": {},
   "outputs": [
    {
     "name": "stdout",
     "output_type": "stream",
     "text": [
      "data type Before : <class 'str'> \n",
      " value of A - \n",
      "data type After: <class 'bool'> \n",
      " value of A - False\n"
     ]
    }
   ],
   "source": [
    "# empty string to Boolean \n",
    "A = \"\" # empty string will treat as false as part of cast\n",
    "print(f\"data type Before : {type(A)} \\n value of A - {A}\")\n",
    "A = bool(A)\n",
    "print(f\"data type After: {type(A)} \\n value of A - {A}\")"
   ]
  },
  {
   "cell_type": "code",
   "execution_count": 30,
   "id": "c385feda",
   "metadata": {},
   "outputs": [
    {
     "name": "stdout",
     "output_type": "stream",
     "text": [
      "data type Before : <class 'str'> \n",
      " value of A - \n"
     ]
    },
    {
     "ename": "ValueError",
     "evalue": "invalid literal for int() with base 10: ''",
     "output_type": "error",
     "traceback": [
      "\u001b[1;31m---------------------------------------------------------------------------\u001b[0m",
      "\u001b[1;31mValueError\u001b[0m                                Traceback (most recent call last)",
      "Cell \u001b[1;32mIn[30], line 4\u001b[0m\n\u001b[0;32m      2\u001b[0m A \u001b[38;5;241m=\u001b[39m \u001b[38;5;124m\"\u001b[39m\u001b[38;5;124m\"\u001b[39m \n\u001b[0;32m      3\u001b[0m \u001b[38;5;28mprint\u001b[39m(\u001b[38;5;124mf\u001b[39m\u001b[38;5;124m\"\u001b[39m\u001b[38;5;124mdata type Before : \u001b[39m\u001b[38;5;132;01m{\u001b[39;00m\u001b[38;5;28mtype\u001b[39m(A)\u001b[38;5;132;01m}\u001b[39;00m\u001b[38;5;124m \u001b[39m\u001b[38;5;130;01m\\n\u001b[39;00m\u001b[38;5;124m value of A - \u001b[39m\u001b[38;5;132;01m{\u001b[39;00mA\u001b[38;5;132;01m}\u001b[39;00m\u001b[38;5;124m\"\u001b[39m)\n\u001b[1;32m----> 4\u001b[0m A \u001b[38;5;241m=\u001b[39m \u001b[38;5;28;43mint\u001b[39;49m\u001b[43m(\u001b[49m\u001b[43mA\u001b[49m\u001b[43m)\u001b[49m\n\u001b[0;32m      5\u001b[0m \u001b[38;5;28mprint\u001b[39m(\u001b[38;5;124mf\u001b[39m\u001b[38;5;124m\"\u001b[39m\u001b[38;5;124mdata type After: \u001b[39m\u001b[38;5;132;01m{\u001b[39;00m\u001b[38;5;28mtype\u001b[39m(A)\u001b[38;5;132;01m}\u001b[39;00m\u001b[38;5;124m \u001b[39m\u001b[38;5;130;01m\\n\u001b[39;00m\u001b[38;5;124m value of A - \u001b[39m\u001b[38;5;132;01m{\u001b[39;00mA\u001b[38;5;132;01m}\u001b[39;00m\u001b[38;5;124m\"\u001b[39m)\n",
      "\u001b[1;31mValueError\u001b[0m: invalid literal for int() with base 10: ''"
     ]
    }
   ],
   "source": [
    "# empty string to Integer \n",
    "A = \"\" \n",
    "print(f\"data type Before : {type(A)} \\n value of A - {A}\")\n",
    "A = int(A)\n",
    "print(f\"data type After: {type(A)} \\n value of A - {A}\")"
   ]
  },
  {
   "cell_type": "markdown",
   "id": "b78b7c46",
   "metadata": {},
   "source": [
    "# Calculate the age of the User"
   ]
  },
  {
   "cell_type": "code",
   "execution_count": 40,
   "id": "3fcad7c3",
   "metadata": {},
   "outputs": [
    {
     "name": "stdout",
     "output_type": "stream",
     "text": [
      "FName : Phani\n",
      "LName : Bussa\n",
      "Year of Birth : 1986\n",
      "As of today 2023-04-07\n",
      "Phani - Bussa Age 37\n"
     ]
    }
   ],
   "source": [
    "fName = input(\"FName : \")\n",
    "lName = input(\"LName : \")\n",
    "year_of_birth = input(\"Year of Birth : \")\n",
    "import datetime\n",
    "today = datetime.date.today()\n",
    "year = today.year\n",
    "print(f\"As of today {today}\")\n",
    "year = today.year\n",
    "age = year-int(year_of_birth)\n",
    "print(f\"{fName} - {lName} Age {age}\")"
   ]
  },
  {
   "cell_type": "markdown",
   "id": "6db90d38",
   "metadata": {},
   "source": [
    "# Memory Block"
   ]
  },
  {
   "cell_type": "code",
   "execution_count": 47,
   "id": "03edaa7e",
   "metadata": {},
   "outputs": [
    {
     "data": {
      "text/plain": [
       "1414924403600"
      ]
     },
     "execution_count": 47,
     "metadata": {},
     "output_type": "execute_result"
    }
   ],
   "source": [
    "a = 22 # both a and c has same value , in memory it will assign same block \n",
    "b = 33\n",
    "c = 22\n",
    "id(a)\n"
   ]
  },
  {
   "cell_type": "code",
   "execution_count": 48,
   "id": "ab384613",
   "metadata": {},
   "outputs": [
    {
     "data": {
      "text/plain": [
       "1414924403952"
      ]
     },
     "execution_count": 48,
     "metadata": {},
     "output_type": "execute_result"
    }
   ],
   "source": [
    "id(b)\n"
   ]
  },
  {
   "cell_type": "code",
   "execution_count": 45,
   "id": "f4fdab73",
   "metadata": {},
   "outputs": [
    {
     "data": {
      "text/plain": [
       "1414924403600"
      ]
     },
     "execution_count": 45,
     "metadata": {},
     "output_type": "execute_result"
    }
   ],
   "source": [
    "id(c)"
   ]
  },
  {
   "cell_type": "markdown",
   "id": "0541c8b4",
   "metadata": {},
   "source": [
    "# Assignments:\n",
    "    1.Find out all the type of errors that we have encountered during the class and also include the examples \n",
    "    2.Take input A and B , print their SUM, MUL, div and sq of the numbers.\n",
    "    3.How many reserve keywords in Python why we should not use them as a variable \n",
    "    "
   ]
  },
  {
   "cell_type": "code",
   "execution_count": null,
   "id": "d96c2488",
   "metadata": {},
   "outputs": [],
   "source": []
  }
 ],
 "metadata": {
  "kernelspec": {
   "display_name": "Python 3 (ipykernel)",
   "language": "python",
   "name": "python3"
  },
  "language_info": {
   "codemirror_mode": {
    "name": "ipython",
    "version": 3
   },
   "file_extension": ".py",
   "mimetype": "text/x-python",
   "name": "python",
   "nbconvert_exporter": "python",
   "pygments_lexer": "ipython3",
   "version": "3.10.9"
  }
 },
 "nbformat": 4,
 "nbformat_minor": 5
}
